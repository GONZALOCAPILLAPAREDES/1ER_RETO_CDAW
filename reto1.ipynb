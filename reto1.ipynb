{
 "cells": [
  {
   "cell_type": "markdown",
   "metadata": {},
   "source": [
    "![](images/EscUpmPolit_p.gif \"UPM\")"
   ]
  },
  {
   "cell_type": "markdown",
   "metadata": {},
   "source": [
    "# Reto1"
   ]
  },
  {
   "cell_type": "markdown",
   "metadata": {},
   "source": [
    "URL del reto: https://www.kaggle.com/c/loan-approval-prediction-texas"
   ]
  },
  {
   "cell_type": "markdown",
   "metadata": {},
   "source": [
    "This challenge consists in an automatic learning competition. The task is to use the techniques learned in class, applying them to a competition with the aim of obtaining the best model. To this end, a dataset of SME enterprises that have applied for a loan is provided, and their mission will be to build a classifier that determines whether the loan should be granted or denied.\n",
    "\n",
    "In this challenge the students must take the role of a bank, and formulate the following question: As a representative of the bank, should I grant a loan to a particular small business (Company X)? Why or why not? The student makes this decision by assessing a loan's risk."
   ]
  },
  {
   "cell_type": "code",
   "execution_count": 144,
   "metadata": {},
   "outputs": [],
   "source": [
    "import pandas as pd\n",
    "\n",
    "import seaborn as sns\n",
    "import matplotlib.pyplot as plt\n",
    "import numpy as np\n",
    "sns.set(color_codes=True)\n",
    "\n",
    "# if matplotlib is not set inline, you will not see plots\n",
    "%matplotlib inline"
   ]
  },
  {
   "cell_type": "markdown",
   "metadata": {},
   "source": [
    "# Campos de información"
   ]
  },
  {
   "cell_type": "markdown",
   "metadata": {},
   "source": [
    "* **id** # Text # Identifier of the data instance\n",
    "* **LoanNr_ChkDgt** # Text # Identifier of the loan petition\n",
    "* **Name** # Text # Borrower name\n",
    "* **City** # Text # Borrower city\n",
    "* **State** # Text # Borrower state\n",
    "* **Bank** # Text # Bank name\n",
    "* **BankState** # Text # Bank state\n",
    "* **ApprovalDate** # Date/Time # Date SBA commitment issued\n",
    "* **ApprovalFY** # Text # Fiscal year of commitment\n",
    "* **NoEmp** # Number # Number of business employees\n",
    "* **NewExist** # Text # 1 = Existing business, 2 = New business\n",
    "* **CreateJob** # Number # Number of jobs created\n",
    "* **RetainedJob** # Number # Number of jobs retained\n",
    "* **FranchiseCode** # Text # Franchise code, (00000 or 00001) = No franchise\n",
    "* **UrbanRural** # Text # 1 = Urban, 2 = rural, 0 = undefined\n",
    "* **RevLineCr** # Text # Revolving line of credit: Y = Yes, N = No\n",
    "* **LowDoc** # Text # LowDoc Loan Program: Y = Yes, N = No\n",
    "* **ChgOffDate** # Date/Time # The date when a loan is declared to be in default\n",
    "* **DisbursementDate** # Date/Time # Disbursement date\n",
    "* **DisbursementGross** # Currency # Amount disbursed\n",
    "* **BalanceGross** # Currency # Gross amount outstanding\n",
    "* **Accept** # Text # Loan approval status. 0 = not approved, 1 = approved"
   ]
  },
  {
   "cell_type": "markdown",
   "metadata": {},
   "source": [
    "# Carga de datos"
   ]
  },
  {
   "cell_type": "code",
   "execution_count": 145,
   "metadata": {},
   "outputs": [
    {
     "data": {
      "text/html": [
       "<div>\n",
       "<style scoped>\n",
       "    .dataframe tbody tr th:only-of-type {\n",
       "        vertical-align: middle;\n",
       "    }\n",
       "\n",
       "    .dataframe tbody tr th {\n",
       "        vertical-align: top;\n",
       "    }\n",
       "\n",
       "    .dataframe thead th {\n",
       "        text-align: right;\n",
       "    }\n",
       "</style>\n",
       "<table border=\"1\" class=\"dataframe\">\n",
       "  <thead>\n",
       "    <tr style=\"text-align: right;\">\n",
       "      <th></th>\n",
       "      <th>id</th>\n",
       "      <th>LoanNr_ChkDgt</th>\n",
       "      <th>Name</th>\n",
       "      <th>City</th>\n",
       "      <th>State</th>\n",
       "      <th>Bank</th>\n",
       "      <th>BankState</th>\n",
       "      <th>ApprovalDate</th>\n",
       "      <th>ApprovalFY</th>\n",
       "      <th>NoEmp</th>\n",
       "      <th>...</th>\n",
       "      <th>RetainedJob</th>\n",
       "      <th>FranchiseCode</th>\n",
       "      <th>UrbanRural</th>\n",
       "      <th>RevLineCr</th>\n",
       "      <th>LowDoc</th>\n",
       "      <th>ChgOffDate</th>\n",
       "      <th>DisbursementDate</th>\n",
       "      <th>DisbursementGross</th>\n",
       "      <th>BalanceGross</th>\n",
       "      <th>Accept</th>\n",
       "    </tr>\n",
       "  </thead>\n",
       "  <tbody>\n",
       "    <tr>\n",
       "      <th>0</th>\n",
       "      <td>d30838cf806</td>\n",
       "      <td>6340864010</td>\n",
       "      <td>QUALITY DOCUMENT SOLUTIONS INC</td>\n",
       "      <td>ODESSA</td>\n",
       "      <td>TX</td>\n",
       "      <td>WELLS FARGO BANK NATL ASSOC</td>\n",
       "      <td>SD</td>\n",
       "      <td>22-May-03</td>\n",
       "      <td>2003</td>\n",
       "      <td>10</td>\n",
       "      <td>...</td>\n",
       "      <td>10</td>\n",
       "      <td>1</td>\n",
       "      <td>1</td>\n",
       "      <td>0</td>\n",
       "      <td>N</td>\n",
       "      <td>NaN</td>\n",
       "      <td>30-Jun-03</td>\n",
       "      <td>$150,000.00</td>\n",
       "      <td>$0.00</td>\n",
       "      <td>1</td>\n",
       "    </tr>\n",
       "    <tr>\n",
       "      <th>1</th>\n",
       "      <td>14560b856a6</td>\n",
       "      <td>1670916004</td>\n",
       "      <td>ATLANTIC INDUSTRIAL WOOD PRODU</td>\n",
       "      <td>KELLER</td>\n",
       "      <td>TX</td>\n",
       "      <td>WELLS FARGO BANK NATL ASSOC</td>\n",
       "      <td>CA</td>\n",
       "      <td>7-Apr-06</td>\n",
       "      <td>2006</td>\n",
       "      <td>1</td>\n",
       "      <td>...</td>\n",
       "      <td>1</td>\n",
       "      <td>1</td>\n",
       "      <td>1</td>\n",
       "      <td>Y</td>\n",
       "      <td>N</td>\n",
       "      <td>NaN</td>\n",
       "      <td>31-Jul-06</td>\n",
       "      <td>$250,000.00</td>\n",
       "      <td>$0.00</td>\n",
       "      <td>1</td>\n",
       "    </tr>\n",
       "    <tr>\n",
       "      <th>2</th>\n",
       "      <td>051e5c3899f</td>\n",
       "      <td>7568313003</td>\n",
       "      <td>C J TREEHOUSE INC.</td>\n",
       "      <td>EL PASO</td>\n",
       "      <td>TX</td>\n",
       "      <td>BANK OF AMERICA NATL ASSOC</td>\n",
       "      <td>TX</td>\n",
       "      <td>12-Sep-94</td>\n",
       "      <td>1994</td>\n",
       "      <td>5</td>\n",
       "      <td>...</td>\n",
       "      <td>0</td>\n",
       "      <td>1</td>\n",
       "      <td>0</td>\n",
       "      <td>N</td>\n",
       "      <td>Y</td>\n",
       "      <td>NaN</td>\n",
       "      <td>31-Oct-94</td>\n",
       "      <td>$53,000.00</td>\n",
       "      <td>$0.00</td>\n",
       "      <td>1</td>\n",
       "    </tr>\n",
       "    <tr>\n",
       "      <th>3</th>\n",
       "      <td>eb223b05ea8</td>\n",
       "      <td>4585814005</td>\n",
       "      <td>WINGSTOP</td>\n",
       "      <td>SAN ANTONIO</td>\n",
       "      <td>TX</td>\n",
       "      <td>COMPASS BANK</td>\n",
       "      <td>AL</td>\n",
       "      <td>18-Jun-01</td>\n",
       "      <td>2001</td>\n",
       "      <td>1</td>\n",
       "      <td>...</td>\n",
       "      <td>1</td>\n",
       "      <td>89769</td>\n",
       "      <td>1</td>\n",
       "      <td>0</td>\n",
       "      <td>N</td>\n",
       "      <td>NaN</td>\n",
       "      <td>31-Aug-01</td>\n",
       "      <td>$170,000.00</td>\n",
       "      <td>$0.00</td>\n",
       "      <td>1</td>\n",
       "    </tr>\n",
       "    <tr>\n",
       "      <th>4</th>\n",
       "      <td>c80c89ac964</td>\n",
       "      <td>2003866003</td>\n",
       "      <td>H &amp; H MACHINE &amp; SUPPLY INC</td>\n",
       "      <td>ODESSA</td>\n",
       "      <td>TX</td>\n",
       "      <td>SOUTHWEST BANK</td>\n",
       "      <td>TX</td>\n",
       "      <td>12-May-06</td>\n",
       "      <td>2006</td>\n",
       "      <td>5</td>\n",
       "      <td>...</td>\n",
       "      <td>5</td>\n",
       "      <td>1</td>\n",
       "      <td>1</td>\n",
       "      <td>0</td>\n",
       "      <td>N</td>\n",
       "      <td>NaN</td>\n",
       "      <td>31-May-06</td>\n",
       "      <td>$121,000.00</td>\n",
       "      <td>$0.00</td>\n",
       "      <td>1</td>\n",
       "    </tr>\n",
       "    <tr>\n",
       "      <th>...</th>\n",
       "      <td>...</td>\n",
       "      <td>...</td>\n",
       "      <td>...</td>\n",
       "      <td>...</td>\n",
       "      <td>...</td>\n",
       "      <td>...</td>\n",
       "      <td>...</td>\n",
       "      <td>...</td>\n",
       "      <td>...</td>\n",
       "      <td>...</td>\n",
       "      <td>...</td>\n",
       "      <td>...</td>\n",
       "      <td>...</td>\n",
       "      <td>...</td>\n",
       "      <td>...</td>\n",
       "      <td>...</td>\n",
       "      <td>...</td>\n",
       "      <td>...</td>\n",
       "      <td>...</td>\n",
       "      <td>...</td>\n",
       "      <td>...</td>\n",
       "    </tr>\n",
       "    <tr>\n",
       "      <th>49315</th>\n",
       "      <td>7bc068859e5</td>\n",
       "      <td>4999154008</td>\n",
       "      <td>SUPREME BAKERY INC</td>\n",
       "      <td>EL PASO</td>\n",
       "      <td>TX</td>\n",
       "      <td>JPMORGAN CHASE BANK NATL ASSOC</td>\n",
       "      <td>IL</td>\n",
       "      <td>23-Oct-01</td>\n",
       "      <td>2002</td>\n",
       "      <td>13</td>\n",
       "      <td>...</td>\n",
       "      <td>13</td>\n",
       "      <td>1</td>\n",
       "      <td>0</td>\n",
       "      <td>0</td>\n",
       "      <td>N</td>\n",
       "      <td>NaN</td>\n",
       "      <td>31-Mar-02</td>\n",
       "      <td>$63,000.00</td>\n",
       "      <td>$0.00</td>\n",
       "      <td>1</td>\n",
       "    </tr>\n",
       "    <tr>\n",
       "      <th>49316</th>\n",
       "      <td>1f0420db159</td>\n",
       "      <td>1401875000</td>\n",
       "      <td>Yunmi Sushi, Corp.</td>\n",
       "      <td>HOUSTON</td>\n",
       "      <td>TX</td>\n",
       "      <td>JPMORGAN CHASE BANK NATL ASSOC</td>\n",
       "      <td>IL</td>\n",
       "      <td>4-Aug-05</td>\n",
       "      <td>2005</td>\n",
       "      <td>1</td>\n",
       "      <td>...</td>\n",
       "      <td>1</td>\n",
       "      <td>0</td>\n",
       "      <td>1</td>\n",
       "      <td>Y</td>\n",
       "      <td>N</td>\n",
       "      <td>NaN</td>\n",
       "      <td>30-Sep-05</td>\n",
       "      <td>$25,000.00</td>\n",
       "      <td>$0.00</td>\n",
       "      <td>1</td>\n",
       "    </tr>\n",
       "    <tr>\n",
       "      <th>49317</th>\n",
       "      <td>7f4cbcda5f5</td>\n",
       "      <td>5823093008</td>\n",
       "      <td>SOUTHSIDE ACE HARDWARE</td>\n",
       "      <td>GRAND PRAIRIE</td>\n",
       "      <td>TX</td>\n",
       "      <td>BANK OF THE WEST</td>\n",
       "      <td>TX</td>\n",
       "      <td>3-Aug-93</td>\n",
       "      <td>1993</td>\n",
       "      <td>8</td>\n",
       "      <td>...</td>\n",
       "      <td>0</td>\n",
       "      <td>1560</td>\n",
       "      <td>0</td>\n",
       "      <td>N</td>\n",
       "      <td>N</td>\n",
       "      <td>NaN</td>\n",
       "      <td>31-Jan-94</td>\n",
       "      <td>$200,000.00</td>\n",
       "      <td>$0.00</td>\n",
       "      <td>1</td>\n",
       "    </tr>\n",
       "    <tr>\n",
       "      <th>49318</th>\n",
       "      <td>4dcd80b2311</td>\n",
       "      <td>2713645005</td>\n",
       "      <td>THE FORSBERG LAW FIRM, P.C.</td>\n",
       "      <td>MONTGOMERY</td>\n",
       "      <td>TX</td>\n",
       "      <td>CAPITAL ONE NATL ASSOC</td>\n",
       "      <td>VA</td>\n",
       "      <td>21-Sep-07</td>\n",
       "      <td>2007</td>\n",
       "      <td>3</td>\n",
       "      <td>...</td>\n",
       "      <td>3</td>\n",
       "      <td>0</td>\n",
       "      <td>1</td>\n",
       "      <td>N</td>\n",
       "      <td>N</td>\n",
       "      <td>NaN</td>\n",
       "      <td>31-Oct-07</td>\n",
       "      <td>$35,000.00</td>\n",
       "      <td>$0.00</td>\n",
       "      <td>1</td>\n",
       "    </tr>\n",
       "    <tr>\n",
       "      <th>49319</th>\n",
       "      <td>07e1e2837e5</td>\n",
       "      <td>9391233006</td>\n",
       "      <td>BOX BROTHERS ENTERPRISES, INC.</td>\n",
       "      <td>HOUSTON</td>\n",
       "      <td>TX</td>\n",
       "      <td>WELLS FARGO BANK NATL ASSOC</td>\n",
       "      <td>SD</td>\n",
       "      <td>9-Jul-96</td>\n",
       "      <td>1996</td>\n",
       "      <td>7</td>\n",
       "      <td>...</td>\n",
       "      <td>0</td>\n",
       "      <td>1</td>\n",
       "      <td>0</td>\n",
       "      <td>0</td>\n",
       "      <td>N</td>\n",
       "      <td>NaN</td>\n",
       "      <td>31-Dec-96</td>\n",
       "      <td>$90,000.00</td>\n",
       "      <td>$0.00</td>\n",
       "      <td>1</td>\n",
       "    </tr>\n",
       "  </tbody>\n",
       "</table>\n",
       "<p>49320 rows × 22 columns</p>\n",
       "</div>"
      ],
      "text/plain": [
       "                id  LoanNr_ChkDgt                            Name  \\\n",
       "0      d30838cf806     6340864010  QUALITY DOCUMENT SOLUTIONS INC   \n",
       "1      14560b856a6     1670916004  ATLANTIC INDUSTRIAL WOOD PRODU   \n",
       "2      051e5c3899f     7568313003              C J TREEHOUSE INC.   \n",
       "3      eb223b05ea8     4585814005                        WINGSTOP   \n",
       "4      c80c89ac964     2003866003      H & H MACHINE & SUPPLY INC   \n",
       "...            ...            ...                             ...   \n",
       "49315  7bc068859e5     4999154008              SUPREME BAKERY INC   \n",
       "49316  1f0420db159     1401875000              Yunmi Sushi, Corp.   \n",
       "49317  7f4cbcda5f5     5823093008          SOUTHSIDE ACE HARDWARE   \n",
       "49318  4dcd80b2311     2713645005     THE FORSBERG LAW FIRM, P.C.   \n",
       "49319  07e1e2837e5     9391233006  BOX BROTHERS ENTERPRISES, INC.   \n",
       "\n",
       "                City State                            Bank BankState  \\\n",
       "0             ODESSA    TX     WELLS FARGO BANK NATL ASSOC        SD   \n",
       "1             KELLER    TX     WELLS FARGO BANK NATL ASSOC        CA   \n",
       "2            EL PASO    TX      BANK OF AMERICA NATL ASSOC        TX   \n",
       "3        SAN ANTONIO    TX                    COMPASS BANK        AL   \n",
       "4             ODESSA    TX                  SOUTHWEST BANK        TX   \n",
       "...              ...   ...                             ...       ...   \n",
       "49315        EL PASO    TX  JPMORGAN CHASE BANK NATL ASSOC        IL   \n",
       "49316        HOUSTON    TX  JPMORGAN CHASE BANK NATL ASSOC        IL   \n",
       "49317  GRAND PRAIRIE    TX                BANK OF THE WEST        TX   \n",
       "49318     MONTGOMERY    TX          CAPITAL ONE NATL ASSOC        VA   \n",
       "49319        HOUSTON    TX     WELLS FARGO BANK NATL ASSOC        SD   \n",
       "\n",
       "      ApprovalDate ApprovalFY  NoEmp  ...  RetainedJob  FranchiseCode  \\\n",
       "0        22-May-03       2003     10  ...           10              1   \n",
       "1         7-Apr-06       2006      1  ...            1              1   \n",
       "2        12-Sep-94       1994      5  ...            0              1   \n",
       "3        18-Jun-01       2001      1  ...            1          89769   \n",
       "4        12-May-06       2006      5  ...            5              1   \n",
       "...            ...        ...    ...  ...          ...            ...   \n",
       "49315    23-Oct-01       2002     13  ...           13              1   \n",
       "49316     4-Aug-05       2005      1  ...            1              0   \n",
       "49317     3-Aug-93       1993      8  ...            0           1560   \n",
       "49318    21-Sep-07       2007      3  ...            3              0   \n",
       "49319     9-Jul-96       1996      7  ...            0              1   \n",
       "\n",
       "       UrbanRural  RevLineCr  LowDoc ChgOffDate DisbursementDate  \\\n",
       "0               1          0       N        NaN        30-Jun-03   \n",
       "1               1          Y       N        NaN        31-Jul-06   \n",
       "2               0          N       Y        NaN        31-Oct-94   \n",
       "3               1          0       N        NaN        31-Aug-01   \n",
       "4               1          0       N        NaN        31-May-06   \n",
       "...           ...        ...     ...        ...              ...   \n",
       "49315           0          0       N        NaN        31-Mar-02   \n",
       "49316           1          Y       N        NaN        30-Sep-05   \n",
       "49317           0          N       N        NaN        31-Jan-94   \n",
       "49318           1          N       N        NaN        31-Oct-07   \n",
       "49319           0          0       N        NaN        31-Dec-96   \n",
       "\n",
       "      DisbursementGross BalanceGross Accept  \n",
       "0          $150,000.00        $0.00       1  \n",
       "1          $250,000.00        $0.00       1  \n",
       "2           $53,000.00        $0.00       1  \n",
       "3          $170,000.00        $0.00       1  \n",
       "4          $121,000.00        $0.00       1  \n",
       "...                 ...          ...    ...  \n",
       "49315       $63,000.00        $0.00       1  \n",
       "49316       $25,000.00        $0.00       1  \n",
       "49317      $200,000.00        $0.00       1  \n",
       "49318       $35,000.00        $0.00       1  \n",
       "49319       $90,000.00        $0.00       1  \n",
       "\n",
       "[49320 rows x 22 columns]"
      ]
     },
     "execution_count": 145,
     "metadata": {},
     "output_type": "execute_result"
    }
   ],
   "source": [
    "url = \"data/train.csv\"\n",
    "df = pd.read_csv(url)\n",
    "df"
   ]
  },
  {
   "cell_type": "markdown",
   "metadata": {},
   "source": [
    "# Evaluación de datos"
   ]
  },
  {
   "cell_type": "markdown",
   "metadata": {},
   "source": [
    "## Evaluación general"
   ]
  },
  {
   "cell_type": "markdown",
   "metadata": {},
   "source": [
    "Número de clases y de características"
   ]
  },
  {
   "cell_type": "code",
   "execution_count": 146,
   "metadata": {},
   "outputs": [
    {
     "data": {
      "text/plain": [
       "(49320, 22)"
      ]
     },
     "execution_count": 146,
     "metadata": {},
     "output_type": "execute_result"
    }
   ],
   "source": [
    "df.shape"
   ]
  },
  {
   "cell_type": "markdown",
   "metadata": {},
   "source": [
    "Información sobre las columnas y sus tipos "
   ]
  },
  {
   "cell_type": "code",
   "execution_count": 147,
   "metadata": {},
   "outputs": [
    {
     "name": "stdout",
     "output_type": "stream",
     "text": [
      "<class 'pandas.core.frame.DataFrame'>\n",
      "RangeIndex: 49320 entries, 0 to 49319\n",
      "Data columns (total 22 columns):\n",
      " #   Column             Non-Null Count  Dtype  \n",
      "---  ------             --------------  -----  \n",
      " 0   id                 49320 non-null  object \n",
      " 1   LoanNr_ChkDgt      49320 non-null  int64  \n",
      " 2   Name               49319 non-null  object \n",
      " 3   City               49320 non-null  object \n",
      " 4   State              49320 non-null  object \n",
      " 5   Bank               49120 non-null  object \n",
      " 6   BankState          49120 non-null  object \n",
      " 7   ApprovalDate       49320 non-null  object \n",
      " 8   ApprovalFY         49320 non-null  object \n",
      " 9   NoEmp              49320 non-null  int64  \n",
      " 10  NewExist           49313 non-null  float64\n",
      " 11  CreateJob          49320 non-null  int64  \n",
      " 12  RetainedJob        49320 non-null  int64  \n",
      " 13  FranchiseCode      49320 non-null  int64  \n",
      " 14  UrbanRural         49320 non-null  int64  \n",
      " 15  RevLineCr          49031 non-null  object \n",
      " 16  LowDoc             49160 non-null  object \n",
      " 17  ChgOffDate         9571 non-null   object \n",
      " 18  DisbursementDate   49194 non-null  object \n",
      " 19  DisbursementGross  49320 non-null  object \n",
      " 20  BalanceGross       49320 non-null  object \n",
      " 21  Accept             49320 non-null  int64  \n",
      "dtypes: float64(1), int64(7), object(14)\n",
      "memory usage: 8.3+ MB\n"
     ]
    }
   ],
   "source": [
    "df.info()"
   ]
  },
  {
   "cell_type": "markdown",
   "metadata": {},
   "source": [
    "Vemos que tenemos 14 columnas de tipo ***object*** (habrá que cambiarlos de tipo), 8 columnas de tipo numérico (7 de ***int64*** y 1 de ***float64***). "
   ]
  },
  {
   "cell_type": "code",
   "execution_count": 148,
   "metadata": {},
   "outputs": [
    {
     "data": {
      "text/html": [
       "<div>\n",
       "<style scoped>\n",
       "    .dataframe tbody tr th:only-of-type {\n",
       "        vertical-align: middle;\n",
       "    }\n",
       "\n",
       "    .dataframe tbody tr th {\n",
       "        vertical-align: top;\n",
       "    }\n",
       "\n",
       "    .dataframe thead th {\n",
       "        text-align: right;\n",
       "    }\n",
       "</style>\n",
       "<table border=\"1\" class=\"dataframe\">\n",
       "  <thead>\n",
       "    <tr style=\"text-align: right;\">\n",
       "      <th></th>\n",
       "      <th>LoanNr_ChkDgt</th>\n",
       "      <th>NoEmp</th>\n",
       "      <th>NewExist</th>\n",
       "      <th>CreateJob</th>\n",
       "      <th>RetainedJob</th>\n",
       "      <th>FranchiseCode</th>\n",
       "      <th>UrbanRural</th>\n",
       "      <th>Accept</th>\n",
       "    </tr>\n",
       "  </thead>\n",
       "  <tbody>\n",
       "    <tr>\n",
       "      <th>count</th>\n",
       "      <td>4.932000e+04</td>\n",
       "      <td>49320.000000</td>\n",
       "      <td>49313.000000</td>\n",
       "      <td>49320.000000</td>\n",
       "      <td>49320.000000</td>\n",
       "      <td>49320.000000</td>\n",
       "      <td>49320.000000</td>\n",
       "      <td>49320.000000</td>\n",
       "    </tr>\n",
       "    <tr>\n",
       "      <th>mean</th>\n",
       "      <td>4.941161e+09</td>\n",
       "      <td>10.794505</td>\n",
       "      <td>1.317361</td>\n",
       "      <td>9.871006</td>\n",
       "      <td>11.930211</td>\n",
       "      <td>3933.928062</td>\n",
       "      <td>0.658942</td>\n",
       "      <td>0.810929</td>\n",
       "    </tr>\n",
       "    <tr>\n",
       "      <th>std</th>\n",
       "      <td>2.530125e+09</td>\n",
       "      <td>44.645641</td>\n",
       "      <td>0.467497</td>\n",
       "      <td>262.815556</td>\n",
       "      <td>266.334776</td>\n",
       "      <td>15141.332203</td>\n",
       "      <td>0.595339</td>\n",
       "      <td>0.391569</td>\n",
       "    </tr>\n",
       "    <tr>\n",
       "      <th>min</th>\n",
       "      <td>1.000254e+09</td>\n",
       "      <td>0.000000</td>\n",
       "      <td>0.000000</td>\n",
       "      <td>0.000000</td>\n",
       "      <td>0.000000</td>\n",
       "      <td>0.000000</td>\n",
       "      <td>0.000000</td>\n",
       "      <td>0.000000</td>\n",
       "    </tr>\n",
       "    <tr>\n",
       "      <th>25%</th>\n",
       "      <td>2.731376e+09</td>\n",
       "      <td>2.000000</td>\n",
       "      <td>1.000000</td>\n",
       "      <td>0.000000</td>\n",
       "      <td>0.000000</td>\n",
       "      <td>1.000000</td>\n",
       "      <td>0.000000</td>\n",
       "      <td>1.000000</td>\n",
       "    </tr>\n",
       "    <tr>\n",
       "      <th>50%</th>\n",
       "      <td>4.598009e+09</td>\n",
       "      <td>4.000000</td>\n",
       "      <td>1.000000</td>\n",
       "      <td>0.000000</td>\n",
       "      <td>0.000000</td>\n",
       "      <td>1.000000</td>\n",
       "      <td>1.000000</td>\n",
       "      <td>1.000000</td>\n",
       "    </tr>\n",
       "    <tr>\n",
       "      <th>75%</th>\n",
       "      <td>7.141562e+09</td>\n",
       "      <td>10.000000</td>\n",
       "      <td>2.000000</td>\n",
       "      <td>1.000000</td>\n",
       "      <td>3.000000</td>\n",
       "      <td>1.000000</td>\n",
       "      <td>1.000000</td>\n",
       "      <td>1.000000</td>\n",
       "    </tr>\n",
       "    <tr>\n",
       "      <th>max</th>\n",
       "      <td>9.995563e+09</td>\n",
       "      <td>4000.000000</td>\n",
       "      <td>2.000000</td>\n",
       "      <td>8800.000000</td>\n",
       "      <td>9500.000000</td>\n",
       "      <td>92000.000000</td>\n",
       "      <td>2.000000</td>\n",
       "      <td>1.000000</td>\n",
       "    </tr>\n",
       "  </tbody>\n",
       "</table>\n",
       "</div>"
      ],
      "text/plain": [
       "       LoanNr_ChkDgt         NoEmp      NewExist     CreateJob   RetainedJob  \\\n",
       "count   4.932000e+04  49320.000000  49313.000000  49320.000000  49320.000000   \n",
       "mean    4.941161e+09     10.794505      1.317361      9.871006     11.930211   \n",
       "std     2.530125e+09     44.645641      0.467497    262.815556    266.334776   \n",
       "min     1.000254e+09      0.000000      0.000000      0.000000      0.000000   \n",
       "25%     2.731376e+09      2.000000      1.000000      0.000000      0.000000   \n",
       "50%     4.598009e+09      4.000000      1.000000      0.000000      0.000000   \n",
       "75%     7.141562e+09     10.000000      2.000000      1.000000      3.000000   \n",
       "max     9.995563e+09   4000.000000      2.000000   8800.000000   9500.000000   \n",
       "\n",
       "       FranchiseCode    UrbanRural        Accept  \n",
       "count   49320.000000  49320.000000  49320.000000  \n",
       "mean     3933.928062      0.658942      0.810929  \n",
       "std     15141.332203      0.595339      0.391569  \n",
       "min         0.000000      0.000000      0.000000  \n",
       "25%         1.000000      0.000000      1.000000  \n",
       "50%         1.000000      1.000000      1.000000  \n",
       "75%         1.000000      1.000000      1.000000  \n",
       "max     92000.000000      2.000000      1.000000  "
      ]
     },
     "execution_count": 148,
     "metadata": {},
     "output_type": "execute_result"
    }
   ],
   "source": [
    "# Estadísticas básicas de todas las columnas numéricas\n",
    "df.describe()"
   ]
  },
  {
   "cell_type": "markdown",
   "metadata": {},
   "source": [
    "Número de los valores desaparecidos"
   ]
  },
  {
   "cell_type": "code",
   "execution_count": 149,
   "metadata": {},
   "outputs": [
    {
     "data": {
      "text/plain": [
       "id                       0\n",
       "LoanNr_ChkDgt            0\n",
       "Name                     1\n",
       "City                     0\n",
       "State                    0\n",
       "Bank                   200\n",
       "BankState              200\n",
       "ApprovalDate             0\n",
       "ApprovalFY               0\n",
       "NoEmp                    0\n",
       "NewExist                 7\n",
       "CreateJob                0\n",
       "RetainedJob              0\n",
       "FranchiseCode            0\n",
       "UrbanRural               0\n",
       "RevLineCr              289\n",
       "LowDoc                 160\n",
       "ChgOffDate           39749\n",
       "DisbursementDate       126\n",
       "DisbursementGross        0\n",
       "BalanceGross             0\n",
       "Accept                   0\n",
       "dtype: int64"
      ]
     },
     "execution_count": 149,
     "metadata": {},
     "output_type": "execute_result"
    }
   ],
   "source": [
    "df.isnull().sum()"
   ]
  },
  {
   "cell_type": "code",
   "execution_count": 150,
   "metadata": {},
   "outputs": [
    {
     "data": {
      "text/plain": [
       "array([[<AxesSubplot:title={'center':'LoanNr_ChkDgt'}>,\n",
       "        <AxesSubplot:title={'center':'NoEmp'}>,\n",
       "        <AxesSubplot:title={'center':'NewExist'}>],\n",
       "       [<AxesSubplot:title={'center':'CreateJob'}>,\n",
       "        <AxesSubplot:title={'center':'RetainedJob'}>,\n",
       "        <AxesSubplot:title={'center':'FranchiseCode'}>],\n",
       "       [<AxesSubplot:title={'center':'UrbanRural'}>,\n",
       "        <AxesSubplot:title={'center':'Accept'}>, <AxesSubplot:>]],\n",
       "      dtype=object)"
      ]
     },
     "execution_count": 150,
     "metadata": {},
     "output_type": "execute_result"
    },
    {
     "data": {
      "image/png": "[encoded data removed]",
      "text/plain": [
       "<Figure size 720x720 with 9 Axes>"
      ]
     },
     "metadata": {
      "needs_background": "light"
     },
     "output_type": "display_data"
    }
   ],
   "source": [
    "df.hist(figsize=(10,10))"
   ]
  },
  {
   "cell_type": "markdown",
   "metadata": {},
   "source": [
    "## Columna id"
   ]
  },
  {
   "cell_type": "markdown",
   "metadata": {},
   "source": [
    "Esta característica no aporta información ya que es un identificador"
   ]
  },
  {
   "cell_type": "markdown",
   "metadata": {},
   "source": [
    "## Columna LoanNr_ChkDgt"
   ]
  },
  {
   "cell_type": "markdown",
   "metadata": {},
   "source": [
    "Esta característica no aporta información ya que es un identificador"
   ]
  },
  {
   "cell_type": "markdown",
   "metadata": {},
   "source": [
    "## Columna Name"
   ]
  },
  {
   "cell_type": "code",
   "execution_count": 151,
   "metadata": {},
   "outputs": [
    {
     "data": {
      "text/plain": [
       "0        QUALITY DOCUMENT SOLUTIONS INC\n",
       "1        ATLANTIC INDUSTRIAL WOOD PRODU\n",
       "2                    C J TREEHOUSE INC.\n",
       "3                              WINGSTOP\n",
       "4            H & H MACHINE & SUPPLY INC\n",
       "                      ...              \n",
       "49315                SUPREME BAKERY INC\n",
       "49316                Yunmi Sushi, Corp.\n",
       "49317            SOUTHSIDE ACE HARDWARE\n",
       "49318       THE FORSBERG LAW FIRM, P.C.\n",
       "49319    BOX BROTHERS ENTERPRISES, INC.\n",
       "Name: Name, Length: 49320, dtype: object"
      ]
     },
     "execution_count": 151,
     "metadata": {},
     "output_type": "execute_result"
    }
   ],
   "source": [
    "df['Name']"
   ]
  },
  {
   "cell_type": "code",
   "execution_count": 152,
   "metadata": {},
   "outputs": [
    {
     "data": {
      "text/plain": [
       "count                     49319\n",
       "unique                    44761\n",
       "top       WEST TEXAS LEE CO INC\n",
       "freq                         96\n",
       "Name: Name, dtype: object"
      ]
     },
     "execution_count": 152,
     "metadata": {},
     "output_type": "execute_result"
    }
   ],
   "source": [
    "df['Name'].describe()"
   ]
  },
  {
   "cell_type": "markdown",
   "metadata": {},
   "source": [
    "Esta caracteristica parece no aportar mucha información"
   ]
  },
  {
   "cell_type": "markdown",
   "metadata": {},
   "source": [
    "## Columna City"
   ]
  },
  {
   "cell_type": "markdown",
   "metadata": {},
   "source": [
    "Valores"
   ]
  },
  {
   "cell_type": "code",
   "execution_count": 153,
   "metadata": {},
   "outputs": [
    {
     "data": {
      "text/plain": [
       "array(['ODESSA', 'KELLER', 'EL PASO', ..., 'GRAND PRAIRE', 'SPRINGN',\n",
       "       'MILAM'], dtype=object)"
      ]
     },
     "execution_count": 153,
     "metadata": {},
     "output_type": "execute_result"
    }
   ],
   "source": [
    "df['City'].unique()"
   ]
  },
  {
   "cell_type": "markdown",
   "metadata": {},
   "source": [
    "Descripción de City"
   ]
  },
  {
   "cell_type": "code",
   "execution_count": 154,
   "metadata": {},
   "outputs": [
    {
     "data": {
      "text/plain": [
       "count       49320\n",
       "unique       1781\n",
       "top       HOUSTON\n",
       "freq         7136\n",
       "Name: City, dtype: object"
      ]
     },
     "execution_count": 154,
     "metadata": {},
     "output_type": "execute_result"
    }
   ],
   "source": [
    "#df = pd.DictVectorizer(df, columns=['City'])\n",
    "df['City'].describe()"
   ]
  },
  {
   "cell_type": "markdown",
   "metadata": {},
   "source": [
    "Vemos que tiene 1781 valores únicos de tipo object que habrá que convertirlos a enteros"
   ]
  },
  {
   "cell_type": "markdown",
   "metadata": {},
   "source": [
    "Codificación de valores categóricos"
   ]
  },
  {
   "cell_type": "markdown",
   "metadata": {},
   "source": [
    "Para evitar que hay orden en los diferentes valores se va a usar pd.get_dummies que convierte cada valor en una columna binaria"
   ]
  },
  {
   "cell_type": "code",
   "execution_count": 155,
   "metadata": {},
   "outputs": [],
   "source": [
    "df_city = pd.get_dummies(df, columns=['City'])"
   ]
  },
  {
   "cell_type": "markdown",
   "metadata": {},
   "source": [
    "## Columna State"
   ]
  },
  {
   "cell_type": "markdown",
   "metadata": {},
   "source": [
    "Descripción de la columna"
   ]
  },
  {
   "cell_type": "code",
   "execution_count": 156,
   "metadata": {},
   "outputs": [
    {
     "data": {
      "text/plain": [
       "0        TX\n",
       "1        TX\n",
       "2        TX\n",
       "3        TX\n",
       "4        TX\n",
       "         ..\n",
       "49315    TX\n",
       "49316    TX\n",
       "49317    TX\n",
       "49318    TX\n",
       "49319    TX\n",
       "Name: State, Length: 49320, dtype: object"
      ]
     },
     "execution_count": 156,
     "metadata": {},
     "output_type": "execute_result"
    }
   ],
   "source": [
    "df['State']"
   ]
  },
  {
   "cell_type": "code",
   "execution_count": 157,
   "metadata": {
    "scrolled": true
   },
   "outputs": [
    {
     "data": {
      "text/plain": [
       "count     49320\n",
       "unique        1\n",
       "top          TX\n",
       "freq      49320\n",
       "Name: State, dtype: object"
      ]
     },
     "execution_count": 157,
     "metadata": {},
     "output_type": "execute_result"
    }
   ],
   "source": [
    "df['State'].describe()"
   ]
  },
  {
   "cell_type": "markdown",
   "metadata": {},
   "source": [
    "Visualización de los valores de la columna State "
   ]
  },
  {
   "cell_type": "code",
   "execution_count": 158,
   "metadata": {},
   "outputs": [
    {
     "data": {
      "text/plain": [
       "<AxesSubplot:>"
      ]
     },
     "execution_count": 158,
     "metadata": {},
     "output_type": "execute_result"
    },
    {
     "data": {
      "image/png": "[encoded data removed]",
      "text/plain": [
       "<Figure size 432x288 with 1 Axes>"
      ]
     },
     "metadata": {
      "needs_background": "light"
     },
     "output_type": "display_data"
    }
   ],
   "source": [
    "df['State'].hist()"
   ]
  },
  {
   "cell_type": "markdown",
   "metadata": {},
   "source": [
    "Se puede observar que el valor de la columna State es siempre el mismo, por lo que se podría borrar la columna entera."
   ]
  },
  {
   "cell_type": "markdown",
   "metadata": {},
   "source": [
    "## Columna Bank"
   ]
  },
  {
   "cell_type": "markdown",
   "metadata": {},
   "source": [
    "## Columna BankState"
   ]
  },
  {
   "cell_type": "markdown",
   "metadata": {},
   "source": [
    "## Columna ApprovalDate"
   ]
  },
  {
   "cell_type": "markdown",
   "metadata": {},
   "source": [
    "## Columna ApprovalFY"
   ]
  },
  {
   "cell_type": "markdown",
   "metadata": {},
   "source": [
    "## Columna NoEmp"
   ]
  },
  {
   "cell_type": "markdown",
   "metadata": {},
   "source": [
    "Descripción de la columna"
   ]
  },
  {
   "cell_type": "code",
   "execution_count": 159,
   "metadata": {
    "scrolled": true
   },
   "outputs": [
    {
     "data": {
      "text/plain": [
       "0        10\n",
       "1         1\n",
       "2         5\n",
       "3         1\n",
       "4         5\n",
       "         ..\n",
       "49315    13\n",
       "49316     1\n",
       "49317     8\n",
       "49318     3\n",
       "49319     7\n",
       "Name: NoEmp, Length: 49320, dtype: int64"
      ]
     },
     "execution_count": 159,
     "metadata": {},
     "output_type": "execute_result"
    }
   ],
   "source": [
    "df['NoEmp']"
   ]
  },
  {
   "cell_type": "code",
   "execution_count": 160,
   "metadata": {},
   "outputs": [
    {
     "data": {
      "text/plain": [
       "count    49320.000000\n",
       "mean        10.794505\n",
       "std         44.645641\n",
       "min          0.000000\n",
       "25%          2.000000\n",
       "50%          4.000000\n",
       "75%         10.000000\n",
       "max       4000.000000\n",
       "Name: NoEmp, dtype: float64"
      ]
     },
     "execution_count": 160,
     "metadata": {},
     "output_type": "execute_result"
    }
   ],
   "source": [
    "df['NoEmp'].describe()"
   ]
  },
  {
   "cell_type": "markdown",
   "metadata": {},
   "source": [
    "Viusalización de la columna NoEmp"
   ]
  },
  {
   "cell_type": "code",
   "execution_count": 161,
   "metadata": {
    "scrolled": true
   },
   "outputs": [
    {
     "data": {
      "text/plain": [
       "<AxesSubplot:>"
      ]
     },
     "execution_count": 161,
     "metadata": {},
     "output_type": "execute_result"
    },
    {
     "data": {
      "image/png": "[encoded data removed]",
      "text/plain": [
       "<Figure size 432x288 with 1 Axes>"
      ]
     },
     "metadata": {
      "needs_background": "light"
     },
     "output_type": "display_data"
    }
   ],
   "source": [
    "df['NoEmp'].hist()"
   ]
  },
  {
   "cell_type": "markdown",
   "metadata": {},
   "source": [
    "## Columna NewExist"
   ]
  },
  {
   "cell_type": "markdown",
   "metadata": {},
   "source": [
    "## Columna CreateJob"
   ]
  },
  {
   "cell_type": "markdown",
   "metadata": {},
   "source": [
    "## Columna RetainedJob"
   ]
  },
  {
   "cell_type": "markdown",
   "metadata": {},
   "source": [
    "## Columna FranchiseCode"
   ]
  },
  {
   "cell_type": "markdown",
   "metadata": {},
   "source": [
    "## Columna UrbanRural"
   ]
  },
  {
   "cell_type": "markdown",
   "metadata": {},
   "source": [
    "## Columna RevLineCr"
   ]
  },
  {
   "cell_type": "markdown",
   "metadata": {},
   "source": [
    "## Columna LowDoc"
   ]
  },
  {
   "cell_type": "markdown",
   "metadata": {},
   "source": [
    "## Columna ChgOffDate"
   ]
  },
  {
   "cell_type": "markdown",
   "metadata": {},
   "source": [
    "La columa ChgOffDate tiene un 19.4% (9571/49320) de valores no nulos y un 80.6% (39749/49320) de valores nulos. De este hecho se saca que no se sería buena idea extrapolar los valores nulos de los no nulos, ya que los datos no nulos suponen menos de un 20%. Por tanto se podría eliminar la columna."
   ]
  },
  {
   "cell_type": "markdown",
   "metadata": {},
   "source": [
    "## Columna DisbursementDate"
   ]
  },
  {
   "cell_type": "markdown",
   "metadata": {},
   "source": [
    "## Columna DisbursementGross"
   ]
  },
  {
   "cell_type": "markdown",
   "metadata": {},
   "source": [
    "## Columna BalanceGross"
   ]
  },
  {
   "cell_type": "markdown",
   "metadata": {},
   "source": [
    "Descripción de la columna"
   ]
  },
  {
   "cell_type": "code",
   "execution_count": 162,
   "metadata": {
    "scrolled": true
   },
   "outputs": [
    {
     "data": {
      "text/plain": [
       "0        $0.00 \n",
       "1        $0.00 \n",
       "2        $0.00 \n",
       "3        $0.00 \n",
       "4        $0.00 \n",
       "          ...  \n",
       "49315    $0.00 \n",
       "49316    $0.00 \n",
       "49317    $0.00 \n",
       "49318    $0.00 \n",
       "49319    $0.00 \n",
       "Name: BalanceGross, Length: 49320, dtype: object"
      ]
     },
     "execution_count": 162,
     "metadata": {},
     "output_type": "execute_result"
    }
   ],
   "source": [
    "df['BalanceGross']"
   ]
  },
  {
   "cell_type": "code",
   "execution_count": 163,
   "metadata": {},
   "outputs": [
    {
     "data": {
      "text/plain": [
       "count      49320\n",
       "unique         1\n",
       "top       $0.00 \n",
       "freq       49320\n",
       "Name: BalanceGross, dtype: object"
      ]
     },
     "execution_count": 163,
     "metadata": {},
     "output_type": "execute_result"
    }
   ],
   "source": [
    "df['BalanceGross'].describe()"
   ]
  },
  {
   "cell_type": "markdown",
   "metadata": {},
   "source": [
    "Viusalización de la columna BalanceGross"
   ]
  },
  {
   "cell_type": "code",
   "execution_count": 164,
   "metadata": {},
   "outputs": [
    {
     "data": {
      "text/plain": [
       "<AxesSubplot:>"
      ]
     },
     "execution_count": 164,
     "metadata": {},
     "output_type": "execute_result"
    },
    {
     "data": {
      "image/png": "[encoded data removed]",
      "text/plain": [
       "<Figure size 432x288 with 1 Axes>"
      ]
     },
     "metadata": {
      "needs_background": "light"
     },
     "output_type": "display_data"
    }
   ],
   "source": [
    "df['BalanceGross'].hist()"
   ]
  },
  {
   "cell_type": "markdown",
   "metadata": {},
   "source": [
    "Se puede observar que el valor de la columna BalanceGross es siempre el mismo, para todos los emjemplos, por lo que se podría borrar la columna entera."
   ]
  },
  {
   "cell_type": "markdown",
   "metadata": {},
   "source": [
    "# Limpieza de datos"
   ]
  },
  {
   "cell_type": "markdown",
   "metadata": {},
   "source": [
    "Duplicados"
   ]
  },
  {
   "cell_type": "code",
   "execution_count": 165,
   "metadata": {},
   "outputs": [
    {
     "data": {
      "text/plain": [
       "False"
      ]
     },
     "execution_count": 165,
     "metadata": {},
     "output_type": "execute_result"
    }
   ],
   "source": [
    "df.duplicated().any()"
   ]
  },
  {
   "cell_type": "markdown",
   "metadata": {},
   "source": [
    "Eliminación de columnas"
   ]
  },
  {
   "cell_type": "code",
   "execution_count": 166,
   "metadata": {},
   "outputs": [],
   "source": [
    "#df.drop(['BalanceGross', 'State','ChgOffDate','Name'], axis=1, inplace=True)"
   ]
  },
  {
   "cell_type": "code",
   "execution_count": null,
   "metadata": {},
   "outputs": [],
   "source": []
  }
 ],
 "metadata": {
  "kernelspec": {
   "display_name": "Python 3",
   "language": "python",
   "name": "python3"
  },
  "language_info": {
   "codemirror_mode": {
    "name": "ipython",
    "version": 3
   },
   "file_extension": ".py",
   "mimetype": "text/x-python",
   "name": "python",
   "nbconvert_exporter": "python",
   "pygments_lexer": "ipython3",
   "version": "3.8.5"
  },
  "latex_envs": {
   "LaTeX_envs_menu_present": true,
   "autocomplete": true,
   "bibliofile": "biblio.bib",
   "cite_by": "apalike",
   "current_citInitial": 1,
   "eqLabelWithNumbers": true,
   "eqNumInitial": 1,
   "hotkeys": {
    "equation": "Ctrl-E",
    "itemize": "Ctrl-I"
   },
   "labels_anchors": false,
   "latex_user_defs": false,
   "report_style_numbering": false,
   "user_envs_cfg": false
  }
 },
 "nbformat": 4,
 "nbformat_minor": 1
}
